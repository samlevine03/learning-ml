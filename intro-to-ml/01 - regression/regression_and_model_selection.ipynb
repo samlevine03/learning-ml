{
  "cells": [
    {
      "attachments": {},
      "cell_type": "markdown",
      "id": "eDY78I8-wXdy",
      "metadata": {
        "id": "eDY78I8-wXdy"
      },
      "source": [
        "# Project 1: Regression and Model Selection\n",
        "\n",
        "## Objectives\n",
        "The goal in this project is to get comfortable in implementing a complete supervised learning pipeline (in Python). \n",
        "\n",
        "* How to use basic math and machine learning modules in python such as numpy, matplotlib, and sklearn (*_You are encouraged to use numpy to vectorize array operations [see link](https://numpy.org/doc/stable//user/absolute_beginners.html#basic-array-operations)_*)\n",
        "* How to train a regression model *from scratch*\n",
        "* How to implement the *gradient descent* algorithm for iterative model update\n",
        "* How to perform model section when facing multiple choices\n",
        "* How to evaluate the test results and visualize the outcome of an ML model"
      ]
    },
    {
      "cell_type": "markdown",
      "id": "d-5QFRQs8KMZ",
      "metadata": {
        "id": "d-5QFRQs8KMZ"
      },
      "source": [
        "## Task 1A: (Warmup) Linear Regression on Synthetic Dataset, *from Scratch*\n",
        "\n",
        "### Loading math, machine learning, and visualization modules\n",
        "We start importing some modules and running some magic commands"
      ]
    },
    {
      "cell_type": "code",
      "execution_count": 1,
      "id": "KSOkRgRg8vIe",
      "metadata": {
        "id": "KSOkRgRg8vIe"
      },
      "outputs": [],
      "source": [
        "%matplotlib inline\n",
        "\n",
        "# General math and plotting modules.\n",
        "import numpy as np\n",
        "import matplotlib.pyplot as plt\n",
        "from matplotlib.colors import ListedColormap\n",
        "\n",
        "# Machine Learning library. \n",
        "from sklearn.model_selection import train_test_split\n",
        "from sklearn.preprocessing import StandardScaler"
      ]
    },
    {
      "cell_type": "markdown",
      "id": "_zC9jNFb_mVJ",
      "metadata": {
        "id": "_zC9jNFb_mVJ"
      },
      "source": [
        "### Utility/helper functions for generating synthetic dataset, plots, etc.\n",
        "\n",
        "Below are a few utility functions for generating plots (you don't have to modify these functions)."
      ]
    },
    {
      "cell_type": "code",
      "execution_count": 2,
      "id": "9BrgqQPf_ll-",
      "metadata": {
        "id": "9BrgqQPf_ll-"
      },
      "outputs": [],
      "source": [
        "def generate_polynomial_data(num_points, noise, w):\n",
        "    dim = w.size - 1\n",
        "    # Generate feature vector \n",
        "    \n",
        "    # We often use np.random.seed for repeatability; \n",
        "    # remove it if you want to inject randomness into your results \n",
        "    np.random.seed(42)\n",
        "\n",
        "    x = np.random.normal(size=(num_points, 1))\n",
        "    x1 = np.power(x, 0)\n",
        "    for d in range(dim):\n",
        "        x1 = np.concatenate((np.power(x, 1 + d), x1), axis=1)  # X = [x, 1].\n",
        "    y = np.dot(x1, w) + np.random.normal(size=(num_points,)) * noise  # y = Xw + eps\n",
        "\n",
        "    return x1, y\n",
        "\n",
        "def plot_data(X, Y, fig=None, options=dict()):\n",
        "    if fig is None:\n",
        "        fig = plt.subplot(111)\n",
        "    fig.plot(X, Y, options.get('marker', 'b*'), \n",
        "        label=options.get('label', 'Raw data'),\n",
        "        fillstyle=options.get('fillstyle', 'full'),\n",
        "        ms=options.get('size', 8))\n",
        "    process_plot(fig, options)\n",
        "\n",
        "def plot_fit(X, w, fig=None, options=dict()):\n",
        "    if fig is None:\n",
        "        fig = plt.subplot(111)\n",
        "\n",
        "    x_min = np.min(X[:, -2])\n",
        "    x_max = np.max(X[:, -2])\n",
        "    dim = w.size - 1\n",
        "    x_plot = np.reshape(np.linspace(x_min, x_max, 100), [-1, 1])\n",
        "    x1_plot = np.ones_like(x_plot)\n",
        "    for d in range(dim):\n",
        "        x1_plot = np.concatenate((np.power(x_plot, 1 + d), x1_plot), axis=1)\n",
        "\n",
        "    y_plot = np.dot(x1_plot, w)\n",
        "    fig.plot(x_plot, y_plot, 'r-', label=options.get('label', 'Regression fit'))\n",
        "    process_plot(fig, options)\n",
        "\n",
        "def process_plot(fig, options=dict()):\n",
        "    if 'x_label' in options.keys():\n",
        "        fig.set_xlabel(options['x_label'])\n",
        "    if 'y_label' in options.keys():\n",
        "        fig.set_ylabel(options['y_label'])\n",
        "    if 'x_lim' in options.keys():\n",
        "        fig.set_ylim(options['x_lim'])\n",
        "    if 'y_lim' in options.keys():\n",
        "        fig.set_ylim(options['y_lim'])\n",
        "    if 'title' in options.keys():\n",
        "        fig.set_title(options['title'])\n",
        "    if 'legend' in options.keys():\n",
        "        if options['legend']:\n",
        "            fig.legend(loc=options.get('legend_loc', 'best'))"
      ]
    },
    {
      "cell_type": "markdown",
      "id": "sMqfxOF-90Wn",
      "metadata": {
        "id": "sMqfxOF-90Wn"
      },
      "source": [
        "### Data loader\n",
        "\n",
        "Loading and processing dataset (you don't have to modify these functions)."
      ]
    },
    {
      "cell_type": "code",
      "execution_count": 3,
      "id": "nbckc1W4-bGt",
      "metadata": {
        "id": "nbckc1W4-bGt"
      },
      "outputs": [
        {
          "data": {
            "image/png": "[encoded data removed]",
            "text/plain": [
              "<Figure size 640x480 with 1 Axes>"
            ]
          },
          "metadata": {},
          "output_type": "display_data"
        }
      ],
      "source": [
        "# Generate the data.\n",
        "num_points = 100  # Number of training points.\n",
        "noise = 0.6  # Noise Level (needed for data generation).\n",
        "\n",
        "w_true = np.array([2, 0.6]) # groundtruth function parameter\n",
        "\n",
        "X, y = generate_polynomial_data(num_points, noise, w_true) # y = X w_true + noise\n",
        "\n",
        "X_train, X_test, y_train, y_test = \\\n",
        "    train_test_split(X, y, test_size=.4, random_state=42)\n",
        "\n",
        "# Plot Data\n",
        "fig = plt.subplot(111);\n",
        "plot_opts = {'x_label': '$x$', 'y_label': '$y$', 'title': 'Generated Data', 'y_lim': [np.min(y)-0.5, np.max(y)+0.5]}\n",
        "plot_data(X[:, 0], y, fig=fig, options=plot_opts)"
      ]
    },
    {
      "cell_type": "markdown",
      "id": "QadXjQtrBHXR",
      "metadata": {
        "id": "QadXjQtrBHXR"
      },
      "source": [
        "### Modeling\n",
        "\n",
        "In the following, you will write you own loss function for this linear regression task. This could be later used for the regression applications in Task 1B.\n",
        "\n",
        "\n",
        "### The key ingredient of modeling: risk (i.e. expected loss) function and its gradient\n",
        "\n",
        "We will start by fitting by linear regression a set of data points of the type $D = \\left\\{(\\mathbf{x}, y)_i\\right\\}$, $i \\in \\{1, 2, \\ldots, n\\}$.\n",
        "\n",
        "The objective of linear regression, is to find coefficents $\\hat{w}$ such that the residual between $\\hat{y} = \\hat{\\mathbf{w}}^\\top \\tilde{\\mathbf{x}}$, and $y$ is small. (Remember that $\\tilde{\\mathbf{x}} = [\\mathbf{x}, 1]$). From now on, $\\mathbf{x}$ will be considered the extended version unless stated otherwise, hence dropping the tilde notation. \n",
        "\n",
        "We consider the ridge regression risk function, defined as \n",
        "$$ R({\\mathbf{w}}) = \\mathbb{E}[(y-{\\mathbf{w}}^\\top x)^2)] +  \\lambda \\mathbf{w}^\\top \\mathbf{w}$$\n",
        "\n",
        "where the expectation is taken over the data generating the distribution of points. As the whole data generating distribution is not known, the expectation is approximated by samples from the **training** set. \n",
        "\n",
        "The risk is approximated by the *empirical risk* as:\n",
        "\n",
        "\n",
        "$$\\hat{R}_{\\text{ridge}}(\\mathbf{w}) = \\frac{1}{n} \\sum_{i=1}^n \\left(y_i - \\mathbf{w}^\\top \\mathbf{x}_i\\right)^2 + \\lambda \\mathbf{w}^\\top \\mathbf{w}$$\n",
        "\n",
        "In the following, construct a customized funciton which returns the empirical risk and its gradient at parameter $\\theta$:"
      ]
    },
    {
      "cell_type": "code",
      "execution_count": 4,
      "id": "W7gfoERbCtRE",
      "metadata": {
        "id": "W7gfoERbCtRE"
      },
      "outputs": [
        {
          "name": "stdout",
          "output_type": "stream",
          "text": [
            "Loss at initial theta (zeros): 3.4740788381807883\n"
          ]
        }
      ],
      "source": [
        "# Constructing the empirical risk function for ridge regression.\n",
        "def lossFunction(theta, X, y ,Lambda):\n",
        "    \"\"\"\n",
        "    Take in numpy array of theta, X, and y to return the regularize loss function and gradient\n",
        "    of a logistic regression\n",
        "    \"\"\"\n",
        "    # initialize regularized average loss (empirical risk) and its gradient\n",
        "    regLoss = 0\n",
        "    grad = np.zeros(theta.shape)\n",
        "\n",
        "    # add your code to compute the ridge regression risk function and its gradient #\n",
        "    n, p = X.shape\n",
        "    y_hat = y.reshape((n,1)) - X @ theta\n",
        "    regLoss =  (1/n) * y_hat.T @ y_hat + Lambda * theta.T @ theta\n",
        "    regLoss = regLoss[0][0] # to ensure regLoss is an integer\n",
        "\n",
        "    grad = (2/n) * (theta.T @ (X.T @ X) - y.T @ X ) + 2 * Lambda * theta.T\n",
        "    grad = grad.T # to ensure grad shape matches theta shape\n",
        "    # Our Code ends here\n",
        "\n",
        "    return regLoss, grad\n",
        "\n",
        "# Initialize fitting parameters\n",
        "initial_theta = np.zeros((X.shape[1], 1))\n",
        "\n",
        "# Set regularization parameter lambda\n",
        "Lambda = 0.1\n",
        "\n",
        "#Compute and display initial loss and gradient for regularized logistic regression\n",
        "emp_risk, grad=lossFunction(initial_theta, X, y, Lambda)\n",
        "print(\"Loss at initial theta (zeros):\",emp_risk)"
      ]
    },
    {
      "cell_type": "markdown",
      "id": "MxRzx3IrVrJ4",
      "metadata": {
        "id": "MxRzx3IrVrJ4"
      },
      "source": [
        "### Training your ridge regressor: Gradient descent\n",
        "\n",
        "There are many algorithmic tools for training your classifier. Here, we use the popular gradient descent algorithm:\n",
        "\n",
        "The parameters $\\hat{\\mathbf{w}}$ can be updated via a gradient descent rule: \n",
        "\n",
        "$$ \\hat{\\mathbf{w}}_{k+1} \\gets \\hat{\\mathbf{w}}_k - \\eta_k \\left.\\frac{\\partial \\hat{R}}{\\partial \\mathbf{w}} \\right|_{\\mathbf{w}=\\mathbf{w}_k},$$\n",
        "\n",
        "where $\\eta_k$ is a parameter of the algorithm, $k$ is the iteration index, and $\\frac{\\partial \\hat{R}}{\\partial \\mathbf{w}}$ is the gradient of the empirical risk function w.r.t. $\\mathbf{w}$.\n",
        "\n",
        "In the *vanilla* gradient descent method, $\\eta(k)=\\eta_0$ is a constant. However other algorithms exists that modify this.\n",
        "\n",
        "The computational complexity of Gradient descent is $O(n_{\\text{iter}} \\cdot  n d)$. \n"
      ]
    },
    {
      "cell_type": "markdown",
      "id": "NrsxE-mPXUvB",
      "metadata": {
        "id": "NrsxE-mPXUvB"
      },
      "source": [
        "Write a customized function `gradientDescent(X,y,theta,eta,Lambda,tolerance)`\n",
        " which returns an array of empirical risk values, one for each iteration, as well as the final output of the model parameter. \n",
        " \n",
        " Here, `tollerance` specifies the stopping condition: The gradient descent algorithm terminates the observed loss values converges (i.e. two consective losses differ by at most `tollerance`). Hint: the loss should be descending in the loss plot."
      ]
    },
    {
      "cell_type": "code",
      "execution_count": 5,
      "id": "R1OdRyuoWgZg",
      "metadata": {
        "id": "R1OdRyuoWgZg"
      },
      "outputs": [
        {
          "name": "stdout",
          "output_type": "stream",
          "text": [
            "The regularized theta using ridge regression:\n",
            " [[1.73309706]\n",
            " [0.57451649]]\n"
          ]
        },
        {
          "data": {
            "text/plain": [
              "Text(0.5, 1.0, 'Loss function using Gradient Descent')"
            ]
          },
          "execution_count": 5,
          "metadata": {},
          "output_type": "execute_result"
        },
        {
          "data": {
            "image/png": "[encoded data removed]",
            "text/plain": [
              "<Figure size 640x480 with 1 Axes>"
            ]
          },
          "metadata": {},
          "output_type": "display_data"
        }
      ],
      "source": [
        "def gradientDescent(X,y,theta,eta,Lambda,tolerance):\n",
        "    \"\"\"\n",
        "    Take in numpy array X, y and theta and update theta by taking num_iters gradient steps\n",
        "    with learning rate of eta\n",
        "\n",
        "    return theta and the list of the loss of theta during each iteration\n",
        "    \"\"\"\n",
        "    Loss_history =[]\n",
        "\n",
        "    # add your code to compute the output of the gradient, as well as the loss histroy #\n",
        "    while True:\n",
        "      # compute loss and gradient\n",
        "      regLoss, grad = lossFunction(theta,X,y,Lambda)\n",
        "\n",
        "      # update Loss_history\n",
        "      Loss_history.append(regLoss)\n",
        "\n",
        "      # update theta\n",
        "      theta = theta - eta * grad\n",
        "\n",
        "      # check if previous loss - current loss within tolerance\n",
        "      if len(Loss_history) > 1 and (Loss_history[-2] - Loss_history[-1]) < tolerance:\n",
        "        break\n",
        "    # Our code ends here\n",
        "\n",
        "    return theta, Loss_history\n",
        "\n",
        "Eta = 0.01\n",
        "Tolerance = 1e-6\n",
        "\n",
        "theta, Loss_history = gradientDescent(X_train,y_train,initial_theta,Eta,Lambda,Tolerance)\n",
        "print(\"The regularized theta using ridge regression:\\n\",theta)\n",
        "\n",
        "plt.plot(Loss_history)\n",
        "plt.xlabel(\"Iteration\")\n",
        "plt.ylabel(\"$Loss(\\Theta)$\")\n",
        "plt.title(\"Loss function using Gradient Descent\")"
      ]
    },
    {
      "cell_type": "markdown",
      "id": "wwWnkqDVeD9n",
      "metadata": {
        "id": "wwWnkqDVeD9n"
      },
      "source": [
        "### Test module\n",
        "\n",
        "We still need a method to evaluate the model constructed. Here, we plot the predicted values on the test data, together with the training points.\n",
        "\n",
        "Let's take a look at the final results.\n"
      ]
    },
    {
      "cell_type": "code",
      "execution_count": 6,
      "id": "YfSEpgt7eMsE",
      "metadata": {
        "id": "YfSEpgt7eMsE"
      },
      "outputs": [
        {
          "data": {
            "image/png": "[encoded data removed]",
            "text/plain": [
              "<Figure size 640x480 with 1 Axes>"
            ]
          },
          "metadata": {},
          "output_type": "display_data"
        }
      ],
      "source": [
        "# Plot predicted function\n",
        "fig = plt.subplot(111)\n",
        "plot_opts = {'x_label': '$x$', 'y_label': '$y$', 'title': 'Ridge Regression', 'legend': True,\n",
        "                 'y_lim': [np.min(y)-0.5, np.max(y)+0.5]}\n",
        "\n",
        "plot_data(X_train[:,0], y_train, fig=fig, options=plot_opts)\n",
        "plot_fit(X_test, theta, fig=fig, options=plot_opts)\n"
      ]
    },
    {
      "cell_type": "markdown",
      "id": "WtqtDFrS1w6Y",
      "metadata": {
        "id": "WtqtDFrS1w6Y"
      },
      "source": [
        "## Task 1B: Real Dataset: House Value Prediction\n",
        "\n",
        "We will use the [California housing dataset](https://scikit-learn.org/stable/modules/generated/sklearn.datasets.fetch_california_housing.html) from the scikit-learn package. The task is to predict the house values in California districts given some summary stats about them based on the 1990 census data.\n",
        "\n",
        "The dataset has 8 features: longitudes, latitudes, housing median age, total rooms, total bedrooms, population, households, median income, and median house value. The target variable is the median house value for California districts, expressed in hundreds of thousands of dollars ($\\$100,000$). We split the dataset as 80\\% for training data and 20\\% for testing data. \n",
        "\n",
        "The following script loads the dataset (using pandas dataframe):"
      ]
    },
    {
      "cell_type": "code",
      "execution_count": 7,
      "id": "WxDckRfM4Ac_",
      "metadata": {
        "id": "WxDckRfM4Ac_"
      },
      "outputs": [],
      "source": [
        "# python\n",
        "import numpy as np\n",
        "import matplotlib.pyplot as plt\n",
        "from sklearn.datasets import fetch_california_housing\n",
        "import pandas as pd\n",
        "\n",
        "california=fetch_california_housing()\n",
        "california_df=pd.DataFrame(california.data,columns=california.feature_names)\n",
        "california_df['Price']=california.target\n",
        "california_df \n",
        "\n",
        "newX=california_df.drop('Price',axis=1)\n",
        "newY=california_df['Price']\n",
        "\n",
        "newX = StandardScaler().fit_transform(newX)"
      ]
    },
    {
      "cell_type": "markdown",
      "id": "OdD-ghQfqpN-",
      "metadata": {
        "id": "OdD-ghQfqpN-"
      },
      "source": [
        "\n",
        "Following the script below, you will be able to generate the training and test data."
      ]
    },
    {
      "cell_type": "code",
      "execution_count": 8,
      "id": "374bab52",
      "metadata": {
        "id": "374bab52"
      },
      "outputs": [],
      "source": [
        "N_train = len(newX) * .8\n",
        "\n",
        "np.random.seed(150)\n",
        "msk = np.random.rand(len(newX)) < 0.8\n",
        "\n",
        "X_train, y_train = newX[msk], newY[msk]\n",
        "X_test, y_test = newX[~msk], newY[~msk]"
      ]
    },
    {
      "cell_type": "markdown",
      "id": "7CCr2O23sHNq",
      "metadata": {
        "id": "7CCr2O23sHNq"
      },
      "source": [
        "### Training and evaluation\n",
        "\n",
        "Write a function to fit the Ridge regression on the training data and calculate the MSE on the training set. Choosing $\\lambda$ from $\\{10^{-10}, 10^{-6}, 10^{-4}, 10^{-2}, 10^{-1}, 1, 10, 20, 50, 100\\}$, compute the estimate $\\hat{\\mathbf{y}}$ for different values $\\lambda$, and plot the test MSE as a function of $\\lambda$. \n",
        "\n",
        "\n",
        "❗**Note**: You should write your own model fitting and prediction (following the ones you construct in Task 1A). You may call your customized function `lossFunction` and `gradientDescent`. Do not use `sklearn.linear_model` module (i.e. for model fitting and making predictions)."
      ]
    },
    {
      "cell_type": "code",
      "execution_count": 73,
      "id": "54cdd721",
      "metadata": {
        "id": "54cdd721"
      },
      "outputs": [
        {
          "data": {
            "image/png": "[encoded data removed]",
            "text/plain": [
              "<Figure size 640x480 with 1 Axes>"
            ]
          },
          "metadata": {},
          "output_type": "display_data"
        }
      ],
      "source": [
        "def train_and_eval( X_train , y_train , X_eval , y_eval , lambda_ ):\n",
        "\n",
        "  mse = 0\n",
        "\n",
        "  # add your code to train your model on X_train and evalute (i.e. computing MSE) on X_eval #\n",
        "\n",
        "  # defining some required values\n",
        "  Eta = 1e-2\n",
        "  Tolerance = 1e-6\n",
        "  initial_theta = np.zeros((X_train.shape[1], 1))\n",
        "  y_train = y_train.to_numpy() if isinstance(y_train, pd.Series) else y_train\n",
        "  y_eval = y_eval.to_numpy() if isinstance(y_eval, pd.Series) else y_eval\n",
        "\n",
        "  # conduct training and obtain theta\n",
        "  theta, Loss_history = gradientDescent(X_train,y_train,initial_theta,Eta,lambda_,Tolerance)\n",
        "\n",
        "  # calculate MSE\n",
        "  n,p = X_eval.shape\n",
        "  errors = y_eval.reshape((n,1)) - X_eval@theta\n",
        "  mse = (1/n) * errors.T @ errors\n",
        "  mse = mse[0][0]\n",
        "\n",
        "  # Our Code ends here\n",
        "\n",
        "  return mse\n",
        "\n",
        "\n",
        "weight_list = [1e-10, 1e-6, 1e-4, 0.01, 0.1, 1, 10, 20, 50, 100]\n",
        "result_list = []\n",
        "\n",
        "# compute test MSE\n",
        "for weight in weight_list:\n",
        "    test_mse = train_and_eval ( X_train , y_train , X_test , y_test , weight )\n",
        "    result_list.append ([ test_mse , weight ])\n",
        "    result_array = np.array ( result_list )\n",
        "\n",
        "plt.figure()\n",
        "plt.xscale('log')  # better graph!\n",
        "plt.plot( result_array [: , -1] , result_array [: ,0] , label = 'test mse')\n",
        "plt.xlabel('lambda')\n",
        "plt.ylabel('test mse')\n",
        "plt.yscale('log')\n",
        "plt.legend()\n",
        "plt.show()"
      ]
    },
    {
      "cell_type": "markdown",
      "id": "__Sith5GtlSC",
      "metadata": {
        "id": "__Sith5GtlSC"
      },
      "source": [
        "### Model selection via k-fold cross validation\n",
        "\n",
        "Implement *10-fold cross validation* on the training set to select $\\lambda$. \n",
        "\n",
        "Plot and compare the MSE on the hold-out set with the true MSE which is computed on the test set. And see how we get to finding the ``best'' $\\lambda$.\n",
        "\n",
        "❗**Note:** For this subproblem, you should write your own function for cross validation; in particular, you should **not** call the existing `sklearn.model_selection` module."
      ]
    },
    {
      "cell_type": "code",
      "execution_count": 74,
      "id": "809941e2",
      "metadata": {},
      "outputs": [
        {
          "name": "stdout",
          "output_type": "stream",
          "text": [
            "cross validation with lambda:  1e-10\n",
            "5.909225775211335\n",
            "cross validation with lambda:  1e-06\n",
            "5.909220212122046\n",
            "cross validation with lambda:  0.0001\n",
            "5.908576629218645\n",
            "cross validation with lambda:  0.01\n",
            "5.855085235007105\n",
            "cross validation with lambda:  0.1\n",
            "5.689339742402454\n",
            "cross validation with lambda:  1\n",
            "5.556405617534707\n",
            "cross validation with lambda:  10\n",
            "5.590139642676777\n",
            "cross validation with lambda:  20\n",
            "5.598313548518187\n",
            "cross validation with lambda:  50\n",
            "5.603882595976733\n",
            "cross validation with lambda:  100\n",
            "5.60767940413326\n",
            "Best lambda:  1\n"
          ]
        }
      ],
      "source": [
        "def cross_validation(X_train, y_train, lambda_, k=10):\n",
        "    \"\"\"\n",
        "    Perform k-fold cross validation on X_train and y_train.\n",
        "    \"\"\"\n",
        "    # add your code to perform k-fold cross validation\n",
        "    n = len(X_train)\n",
        "    fold_size = n // k\n",
        "    mse_list = []\n",
        "\n",
        "    for i in range(k):\n",
        "        start = i * fold_size\n",
        "        end = start + fold_size if i != k-1 else n\n",
        "\n",
        "        X_val_k = X_train[start:end]\n",
        "        y_val_k = y_train[start:end]\n",
        "        X_train_k = np.concatenate([X_train[:start], X_train[end:]])\n",
        "        y_train_k = np.concatenate([y_train[:start], y_train[end:]])\n",
        "\n",
        "        mse = train_and_eval(X_train_k, y_train_k, X_val_k, y_val_k, lambda_)\n",
        "        mse_list.append(mse)\n",
        "\n",
        "    return np.mean(mse_list)\n",
        "\n",
        "\n",
        "# List of lambdas to try\n",
        "weight_list = [1e-10, 1e-6, 1e-4, 0.01, 0.1, 1, 10, 20, 50, 100]\n",
        "\n",
        "best_lambda = None\n",
        "best_mse = np.inf\n",
        "\n",
        "# Find the best lambda\n",
        "for lambda_ in weight_list:\n",
        "    print(\"cross validation with lambda: \", lambda_)\n",
        "    mse = cross_validation(X_train, y_train, lambda_)\n",
        "    print(mse)\n",
        "    if mse < best_mse:\n",
        "        best_mse = mse\n",
        "        best_lambda = lambda_\n",
        "\n",
        "print(\"Best lambda: \", best_lambda)\n"
      ]
    }
  ],
  "metadata": {
    "colab": {
      "provenance": [],
      "toc_visible": true
    },
    "kernelspec": {
      "display_name": "Python 3",
      "language": "python",
      "name": "python3"
    },
    "language_info": {
      "codemirror_mode": {
        "name": "ipython",
        "version": 3
      },
      "file_extension": ".py",
      "mimetype": "text/x-python",
      "name": "python",
      "nbconvert_exporter": "python",
      "pygments_lexer": "ipython3",
      "version": "3.11.6"
    },
    "vscode": {
      "interpreter": {
        "hash": "31f2aee4e71d21fbe5cf8b01ff0e069b9275f58929596ceb00d14d90e3e16cd6"
      }
    }
  },
  "nbformat": 4,
  "nbformat_minor": 5
}
